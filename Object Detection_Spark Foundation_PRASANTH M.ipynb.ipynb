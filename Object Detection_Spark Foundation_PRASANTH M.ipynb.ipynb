{
 "cells": [
  {
   "cell_type": "code",
   "execution_count": null,
   "id": "b58c88af",
   "metadata": {},
   "outputs": [],
   "source": [
    "import cv2 "
   ]
  },
  {
   "cell_type": "code",
   "execution_count": null,
   "id": "b69735b4",
   "metadata": {},
   "outputs": [],
   "source": [
    "configFile = '... MODEL TXT...'\n",
    "frozenModel = '... MODEL... '\n",
    "model = cv2.dnn_DetectionModel(frozenModel,configFile)"
   ]
  },
  {
   "cell_type": "code",
   "execution_count": null,
   "id": "e157b59a",
   "metadata": {},
   "outputs": [],
   "source": [
    "classFile = '.... YOUR COCO NAMES.....'\n",
    "classNames = []\n",
    "with open(classFile, 'rt') as f:\n",
    "    classNames = f.read().rstrip('\\n').split('\\n')"
   ]
  },
  {
   "cell_type": "code",
   "execution_count": null,
   "id": "3135256f",
   "metadata": {},
   "outputs": [],
   "source": [
    "model.setInputSize(320,320)\n",
    "model.setInputScale(1.0/127.5)\n",
    "model.setInputMean((127.5,127.5,127.5))\n",
    "model.setInputSwapRB(True)"
   ]
  },
  {
   "cell_type": "code",
   "execution_count": null,
   "id": "8857c2c0",
   "metadata": {},
   "outputs": [],
   "source": [
    "cap = cv2.VideoCapture('....YOUR VIDEO.....')\n",
    "while True:\n",
    "    ret,frame = cap.read()\n",
    "    ClassIndex, confidence, bbox = model.detect(frame,confThreshold=0.62)\n",
    "    if len(ClassIndex)!= 0:\n",
    "        for ClassInd,conf,boxes in zip(ClassIndex.flatten(),confidence.flatten(),bbox):\n",
    "            if ClassInd <= 80:\n",
    "                cv2.rectangle(frame,boxes,(255,0,0),2)\n",
    "                cv2.putText(frame,classNames[ClassInd-1],(boxes[0]+10,boxes[1]+40),cv2.FONT_HERSHEY_COMPLEX, fontScale=1.1, color = (0,255,0),thickness = 3)\n",
    "    cv2.imshow(\"output\",frame)\n",
    "    if cv2.waitKey(2) & 0xFF == ord('q'):\n",
    "        break  \n",
    "cap.release()\n",
    "cv2.destroyAllWindows()"
   ]
  }
 ],
 "metadata": {
  "kernelspec": {
   "display_name": "Python 3",
   "language": "python",
   "name": "python3"
  },
  "language_info": {
   "codemirror_mode": {
    "name": "ipython",
    "version": 3
   },
   "file_extension": ".py",
   "mimetype": "text/x-python",
   "name": "python",
   "nbconvert_exporter": "python",
   "pygments_lexer": "ipython3",
   "version": "3.8.8"
  }
 },
 "nbformat": 4,
 "nbformat_minor": 5
}
